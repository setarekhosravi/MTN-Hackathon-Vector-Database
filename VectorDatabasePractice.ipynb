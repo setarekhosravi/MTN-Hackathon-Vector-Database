{
  "nbformat": 4,
  "nbformat_minor": 0,
  "metadata": {
    "colab": {
      "provenance": []
    },
    "kernelspec": {
      "name": "python3",
      "display_name": "Python 3"
    },
    "language_info": {
      "name": "python"
    }
  },
  "cells": [
    {
      "cell_type": "markdown",
      "source": [
        "### Install Packages"
      ],
      "metadata": {
        "id": "5xqBUAIH36DK"
      }
    },
    {
      "cell_type": "code",
      "execution_count": 1,
      "metadata": {
        "colab": {
          "base_uri": "https://localhost:8080/"
        },
        "collapsed": true,
        "id": "YI0dIX_C3vWo",
        "outputId": "f6ac643b-551f-4c6a-8894-69f2d449022f"
      },
      "outputs": [
        {
          "output_type": "stream",
          "name": "stdout",
          "text": [
            "Collecting lancedb\n",
            "  Downloading lancedb-0.17.0-cp39-abi3-manylinux_2_28_x86_64.whl.metadata (4.7 kB)\n",
            "Collecting deprecation (from lancedb)\n",
            "  Downloading deprecation-2.1.0-py2.py3-none-any.whl.metadata (4.6 kB)\n",
            "Collecting pylance==0.20.0 (from lancedb)\n",
            "  Downloading pylance-0.20.0-cp39-abi3-manylinux_2_28_x86_64.whl.metadata (7.4 kB)\n",
            "Requirement already satisfied: tqdm>=4.27.0 in /usr/local/lib/python3.10/dist-packages (from lancedb) (4.67.1)\n",
            "Requirement already satisfied: pydantic>=1.10 in /usr/local/lib/python3.10/dist-packages (from lancedb) (2.10.3)\n",
            "Requirement already satisfied: packaging in /usr/local/lib/python3.10/dist-packages (from lancedb) (24.2)\n",
            "Collecting overrides>=0.7 (from lancedb)\n",
            "  Downloading overrides-7.7.0-py3-none-any.whl.metadata (5.8 kB)\n",
            "Requirement already satisfied: pyarrow>=14 in /usr/local/lib/python3.10/dist-packages (from pylance==0.20.0->lancedb) (17.0.0)\n",
            "Requirement already satisfied: numpy>=1.22 in /usr/local/lib/python3.10/dist-packages (from pylance==0.20.0->lancedb) (1.26.4)\n",
            "Requirement already satisfied: annotated-types>=0.6.0 in /usr/local/lib/python3.10/dist-packages (from pydantic>=1.10->lancedb) (0.7.0)\n",
            "Requirement already satisfied: pydantic-core==2.27.1 in /usr/local/lib/python3.10/dist-packages (from pydantic>=1.10->lancedb) (2.27.1)\n",
            "Requirement already satisfied: typing-extensions>=4.12.2 in /usr/local/lib/python3.10/dist-packages (from pydantic>=1.10->lancedb) (4.12.2)\n",
            "Downloading lancedb-0.17.0-cp39-abi3-manylinux_2_28_x86_64.whl (29.9 MB)\n",
            "\u001b[2K   \u001b[90m━━━━━━━━━━━━━━━━━━━━━━━━━━━━━━━━━━━━━━━━\u001b[0m \u001b[32m29.9/29.9 MB\u001b[0m \u001b[31m49.5 MB/s\u001b[0m eta \u001b[36m0:00:00\u001b[0m\n",
            "\u001b[?25hDownloading pylance-0.20.0-cp39-abi3-manylinux_2_28_x86_64.whl (33.5 MB)\n",
            "\u001b[2K   \u001b[90m━━━━━━━━━━━━━━━━━━━━━━━━━━━━━━━━━━━━━━━━\u001b[0m \u001b[32m33.5/33.5 MB\u001b[0m \u001b[31m12.4 MB/s\u001b[0m eta \u001b[36m0:00:00\u001b[0m\n",
            "\u001b[?25hDownloading overrides-7.7.0-py3-none-any.whl (17 kB)\n",
            "Downloading deprecation-2.1.0-py2.py3-none-any.whl (11 kB)\n",
            "Installing collected packages: overrides, deprecation, pylance, lancedb\n",
            "Successfully installed deprecation-2.1.0 lancedb-0.17.0 overrides-7.7.0 pylance-0.20.0\n",
            "Collecting tantivy\n",
            "  Downloading tantivy-0.22.0-cp310-cp310-manylinux_2_17_x86_64.manylinux2014_x86_64.whl.metadata (1.2 kB)\n",
            "Downloading tantivy-0.22.0-cp310-cp310-manylinux_2_17_x86_64.manylinux2014_x86_64.whl (4.5 MB)\n",
            "\u001b[2K   \u001b[90m━━━━━━━━━━━━━━━━━━━━━━━━━━━━━━━━━━━━━━━━\u001b[0m \u001b[32m4.5/4.5 MB\u001b[0m \u001b[31m21.1 MB/s\u001b[0m eta \u001b[36m0:00:00\u001b[0m\n",
            "\u001b[?25hInstalling collected packages: tantivy\n",
            "Successfully installed tantivy-0.22.0\n"
          ]
        }
      ],
      "source": [
        "!pip install lancedb\n",
        "!pip install tantivy"
      ]
    },
    {
      "cell_type": "markdown",
      "source": [
        "### Import Libraries"
      ],
      "metadata": {
        "id": "KgP0AwOf39Jo"
      }
    },
    {
      "cell_type": "code",
      "source": [
        "import lancedb\n",
        "import transformers\n",
        "from transformers import pipeline"
      ],
      "metadata": {
        "id": "gfYIcacF38ne"
      },
      "execution_count": 2,
      "outputs": []
    },
    {
      "cell_type": "markdown",
      "source": [
        "### Define Function to Create Database"
      ],
      "metadata": {
        "id": "ZxYhMkt74Ebz"
      }
    },
    {
      "cell_type": "code",
      "source": [
        "def create_database(url='data/PerToEngQuery'):\n",
        "  vdb = lancedb.connect(url)\n",
        "\n",
        "  data = [\n",
        "\n",
        "    {'vector': [1], 'text': 'Artificial intelligence is transforming the way we work'},\n",
        "    {'vector': [2], 'text': 'Cloud computing enables remote work and collaboration'},\n",
        "    {'vector': [3], 'text': 'Cybersecurity is crucial in the digital age'},\n",
        "    {'vector': [4], 'text': 'Data science helps businesses make better decisions'},\n",
        "    {'vector': [5], 'text': 'The Internet of Things connects everyday devices'},\n",
        "\n",
        "    {'vector': [6], 'text': 'Effective communication is key to successful teamwork'},\n",
        "    {'vector': [7], 'text': 'Project management requires careful planning and execution'},\n",
        "    {'vector': [8], 'text': 'Remote work has become increasingly common'},\n",
        "    {'vector': [9], 'text': 'Start-ups need innovative solutions to succeed'},\n",
        "    {'vector': [10], 'text': 'Time management skills improve productivity'},\n",
        "\n",
        "    {'vector': [11], 'text': 'Online learning platforms provide flexible education options'},\n",
        "    {'vector': [12], 'text': 'Students benefit from hands-on learning experiences'},\n",
        "    {'vector': [13], 'text': 'Critical thinking is an essential skill'},\n",
        "    {'vector': [14], 'text': 'Learning a new language opens new opportunities'},\n",
        "    {'vector': [15], 'text': 'Reading comprehension improves with practice'},\n",
        "\n",
        "    {'vector': [16], 'text': 'Regular exercise promotes better health'},\n",
        "    {'vector': [17], 'text': 'A balanced diet includes various nutrients'},\n",
        "    {'vector': [18], 'text': 'Mental health is as important as physical health'},\n",
        "    {'vector': [19], 'text': 'Adequate sleep is essential for well-being'},\n",
        "    {'vector': [20], 'text': 'Stress management techniques help maintain balance'},\n",
        "\n",
        "    {'vector': [21], 'text': 'Renewable energy sources reduce carbon emissions'},\n",
        "    {'vector': [22], 'text': 'Recycling helps protect the environment'},\n",
        "    {'vector': [23], 'text': 'Climate change affects global ecosystems'},\n",
        "    {'vector': [24], 'text': 'Sustainable practices benefit future generations'},\n",
        "    {'vector': [25], 'text': 'Conservation efforts protect endangered species'},\n",
        "\n",
        "    {'vector': [26], 'text': 'Movies provide both entertainment and education'},\n",
        "    {'vector': [27], 'text': 'Music festivals bring people together'},\n",
        "    {'vector': [28], 'text': 'Art galleries showcase creative expression'},\n",
        "    {'vector': [29], 'text': 'Social media influences modern culture'},\n",
        "    {'vector': [30], 'text': 'Travel broadens cultural understanding'}\n",
        "\n",
        "  ]\n",
        "\n",
        "  tbl = vdb.create_table('news', data=data, mode=\"overwrite\")\n",
        "\n",
        "  tbl.create_fts_index(['text'], replace=True)\n",
        "\n",
        "  return tbl"
      ],
      "metadata": {
        "id": "JGjBF03x4EC1"
      },
      "execution_count": 13,
      "outputs": []
    },
    {
      "cell_type": "markdown",
      "source": [
        "### Define Function for Translation"
      ],
      "metadata": {
        "id": "_Fh9Gn6kFwIs"
      }
    },
    {
      "cell_type": "code",
      "source": [
        "translator = pipeline('translation', model= \"barghavani/Farsi-to-English\")\n",
        "\n",
        "def search(query, tbl):\n",
        "  query = translator(query)\n",
        "  translated = query[0]['translation_text']\n",
        "  return tbl.search(translated).to_pandas()"
      ],
      "metadata": {
        "colab": {
          "base_uri": "https://localhost:8080/"
        },
        "id": "RguqQPSHDxrR",
        "outputId": "e3cc74b5-15a0-4642-b34f-1be443146243"
      },
      "execution_count": 11,
      "outputs": [
        {
          "output_type": "stream",
          "name": "stderr",
          "text": [
            "Device set to use cpu\n"
          ]
        }
      ]
    },
    {
      "cell_type": "markdown",
      "source": [
        "### Run"
      ],
      "metadata": {
        "id": "Mgkwo30FG0gf"
      }
    },
    {
      "cell_type": "code",
      "source": [
        "tbl = create_database()\n",
        "search('مهارت', tbl)"
      ],
      "metadata": {
        "id": "9bIjJqia4L5z",
        "colab": {
          "base_uri": "https://localhost:8080/",
          "height": 81
        },
        "outputId": "df2f796e-d045-4057-f9ac-b375a0d8a47d"
      },
      "execution_count": 17,
      "outputs": [
        {
          "output_type": "execute_result",
          "data": {
            "text/plain": [
              "   vector                                     text   _score\n",
              "0  [13.0]  Critical thinking is an essential skill  3.04897"
            ],
            "text/html": [
              "\n",
              "  <div id=\"df-da8070c2-9ec8-42af-b0ca-96597611c6e5\" class=\"colab-df-container\">\n",
              "    <div>\n",
              "<style scoped>\n",
              "    .dataframe tbody tr th:only-of-type {\n",
              "        vertical-align: middle;\n",
              "    }\n",
              "\n",
              "    .dataframe tbody tr th {\n",
              "        vertical-align: top;\n",
              "    }\n",
              "\n",
              "    .dataframe thead th {\n",
              "        text-align: right;\n",
              "    }\n",
              "</style>\n",
              "<table border=\"1\" class=\"dataframe\">\n",
              "  <thead>\n",
              "    <tr style=\"text-align: right;\">\n",
              "      <th></th>\n",
              "      <th>vector</th>\n",
              "      <th>text</th>\n",
              "      <th>_score</th>\n",
              "    </tr>\n",
              "  </thead>\n",
              "  <tbody>\n",
              "    <tr>\n",
              "      <th>0</th>\n",
              "      <td>[13.0]</td>\n",
              "      <td>Critical thinking is an essential skill</td>\n",
              "      <td>3.04897</td>\n",
              "    </tr>\n",
              "  </tbody>\n",
              "</table>\n",
              "</div>\n",
              "    <div class=\"colab-df-buttons\">\n",
              "\n",
              "  <div class=\"colab-df-container\">\n",
              "    <button class=\"colab-df-convert\" onclick=\"convertToInteractive('df-da8070c2-9ec8-42af-b0ca-96597611c6e5')\"\n",
              "            title=\"Convert this dataframe to an interactive table.\"\n",
              "            style=\"display:none;\">\n",
              "\n",
              "  <svg xmlns=\"http://www.w3.org/2000/svg\" height=\"24px\" viewBox=\"0 -960 960 960\">\n",
              "    <path d=\"M120-120v-720h720v720H120Zm60-500h600v-160H180v160Zm220 220h160v-160H400v160Zm0 220h160v-160H400v160ZM180-400h160v-160H180v160Zm440 0h160v-160H620v160ZM180-180h160v-160H180v160Zm440 0h160v-160H620v160Z\"/>\n",
              "  </svg>\n",
              "    </button>\n",
              "\n",
              "  <style>\n",
              "    .colab-df-container {\n",
              "      display:flex;\n",
              "      gap: 12px;\n",
              "    }\n",
              "\n",
              "    .colab-df-convert {\n",
              "      background-color: #E8F0FE;\n",
              "      border: none;\n",
              "      border-radius: 50%;\n",
              "      cursor: pointer;\n",
              "      display: none;\n",
              "      fill: #1967D2;\n",
              "      height: 32px;\n",
              "      padding: 0 0 0 0;\n",
              "      width: 32px;\n",
              "    }\n",
              "\n",
              "    .colab-df-convert:hover {\n",
              "      background-color: #E2EBFA;\n",
              "      box-shadow: 0px 1px 2px rgba(60, 64, 67, 0.3), 0px 1px 3px 1px rgba(60, 64, 67, 0.15);\n",
              "      fill: #174EA6;\n",
              "    }\n",
              "\n",
              "    .colab-df-buttons div {\n",
              "      margin-bottom: 4px;\n",
              "    }\n",
              "\n",
              "    [theme=dark] .colab-df-convert {\n",
              "      background-color: #3B4455;\n",
              "      fill: #D2E3FC;\n",
              "    }\n",
              "\n",
              "    [theme=dark] .colab-df-convert:hover {\n",
              "      background-color: #434B5C;\n",
              "      box-shadow: 0px 1px 3px 1px rgba(0, 0, 0, 0.15);\n",
              "      filter: drop-shadow(0px 1px 2px rgba(0, 0, 0, 0.3));\n",
              "      fill: #FFFFFF;\n",
              "    }\n",
              "  </style>\n",
              "\n",
              "    <script>\n",
              "      const buttonEl =\n",
              "        document.querySelector('#df-da8070c2-9ec8-42af-b0ca-96597611c6e5 button.colab-df-convert');\n",
              "      buttonEl.style.display =\n",
              "        google.colab.kernel.accessAllowed ? 'block' : 'none';\n",
              "\n",
              "      async function convertToInteractive(key) {\n",
              "        const element = document.querySelector('#df-da8070c2-9ec8-42af-b0ca-96597611c6e5');\n",
              "        const dataTable =\n",
              "          await google.colab.kernel.invokeFunction('convertToInteractive',\n",
              "                                                    [key], {});\n",
              "        if (!dataTable) return;\n",
              "\n",
              "        const docLinkHtml = 'Like what you see? Visit the ' +\n",
              "          '<a target=\"_blank\" href=https://colab.research.google.com/notebooks/data_table.ipynb>data table notebook</a>'\n",
              "          + ' to learn more about interactive tables.';\n",
              "        element.innerHTML = '';\n",
              "        dataTable['output_type'] = 'display_data';\n",
              "        await google.colab.output.renderOutput(dataTable, element);\n",
              "        const docLink = document.createElement('div');\n",
              "        docLink.innerHTML = docLinkHtml;\n",
              "        element.appendChild(docLink);\n",
              "      }\n",
              "    </script>\n",
              "  </div>\n",
              "\n",
              "\n",
              "    </div>\n",
              "  </div>\n"
            ],
            "application/vnd.google.colaboratory.intrinsic+json": {
              "type": "dataframe",
              "summary": "{\n  \"name\": \"search('\\u0645\\u0647\\u0627\\u0631\\u062a', tbl)\",\n  \"rows\": 1,\n  \"fields\": [\n    {\n      \"column\": \"vector\",\n      \"properties\": {\n        \"dtype\": \"object\",\n        \"semantic_type\": \"\",\n        \"description\": \"\"\n      }\n    },\n    {\n      \"column\": \"text\",\n      \"properties\": {\n        \"dtype\": \"string\",\n        \"num_unique_values\": 1,\n        \"samples\": [\n          \"Critical thinking is an essential skill\"\n        ],\n        \"semantic_type\": \"\",\n        \"description\": \"\"\n      }\n    },\n    {\n      \"column\": \"_score\",\n      \"properties\": {\n        \"dtype\": \"number\",\n        \"std\": null,\n        \"min\": 3.0489697456359863,\n        \"max\": 3.0489697456359863,\n        \"num_unique_values\": 1,\n        \"samples\": [\n          3.0489697456359863\n        ],\n        \"semantic_type\": \"\",\n        \"description\": \"\"\n      }\n    }\n  ]\n}"
            }
          },
          "metadata": {},
          "execution_count": 17
        }
      ]
    }
  ]
}